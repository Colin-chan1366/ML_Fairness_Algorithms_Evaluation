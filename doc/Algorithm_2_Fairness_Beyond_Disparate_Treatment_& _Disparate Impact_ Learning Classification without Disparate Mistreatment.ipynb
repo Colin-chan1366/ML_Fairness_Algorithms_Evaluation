{
 "cells": [
  {
   "cell_type": "markdown",
   "id": "4c6fb587-676a-4d88-a3cd-e56f01583a96",
   "metadata": {},
   "source": [
    "# Read / Preprocess Data"
   ]
  },
  {
   "cell_type": "code",
   "execution_count": 71,
   "id": "378df41c-4877-40c9-b93c-5e142a6ddeb7",
   "metadata": {
    "tags": []
   },
   "outputs": [],
   "source": [
    "import pandas as pd"
   ]
  },
  {
   "cell_type": "code",
   "execution_count": 72,
   "id": "a8af16b3-078f-495f-9297-0a5d4650b07f",
   "metadata": {
    "tags": []
   },
   "outputs": [],
   "source": [
    "# read dataset\n",
    "data = pd.read_csv('compas-scores-two-years.csv', index_col=0)"
   ]
  },
  {
   "cell_type": "markdown",
   "id": "735dc487-6e74-4086-bf90-056225d6e964",
   "metadata": {
    "tags": []
   },
   "source": [
    "## Remove unused columns"
   ]
  },
  {
   "cell_type": "code",
   "execution_count": 73,
   "id": "cbdc6b05-6620-4fc7-9228-c75b0b41243d",
   "metadata": {},
   "outputs": [],
   "source": [
    "data = data[['age', 'c_charge_degree', 'race', 'age_cat', 'score_text', 'sex', 'priors_count', \n",
    "                    'days_b_screening_arrest', 'decile_score', 'two_year_recid', 'c_jail_in', 'c_jail_out']]"
   ]
  },
  {
   "cell_type": "code",
   "execution_count": 74,
   "id": "2591f908-1aa4-4d03-b5e3-e70b1009ae0b",
   "metadata": {
    "tags": []
   },
   "outputs": [
    {
     "data": {
      "text/plain": [
       "{'African-American',\n",
       " 'Asian',\n",
       " 'Caucasian',\n",
       " 'Hispanic',\n",
       " 'Native American',\n",
       " 'Other'}"
      ]
     },
     "execution_count": 74,
     "metadata": {},
     "output_type": "execute_result"
    }
   ],
   "source": [
    "set(data['race'].values)"
   ]
  },
  {
   "cell_type": "code",
   "execution_count": 75,
   "id": "c73d8581-d828-496e-a2b6-723f52452b50",
   "metadata": {
    "tags": []
   },
   "outputs": [],
   "source": [
    "data = data[data['race'].apply(lambda race: race in {'African-American', 'Caucasian'})]\n",
    "original_data = data.copy()"
   ]
  },
  {
   "cell_type": "markdown",
   "id": "9efcea1d-f2d8-48c8-a7e8-02e5cb852634",
   "metadata": {},
   "source": [
    "## Split target column"
   ]
  },
  {
   "cell_type": "code",
   "execution_count": 76,
   "id": "db56b5e3-9b5d-4e85-9497-8623accfe3fa",
   "metadata": {
    "tags": []
   },
   "outputs": [],
   "source": [
    "y_column = 'two_year_recid'"
   ]
  },
  {
   "cell_type": "code",
   "execution_count": 77,
   "id": "2ed2916b-4a5c-442a-97f8-b83a4db656e9",
   "metadata": {
    "tags": []
   },
   "outputs": [],
   "source": [
    "data_y = data[y_column]"
   ]
  },
  {
   "cell_type": "code",
   "execution_count": 78,
   "id": "24bb45aa-5d28-4529-9dc5-e354a2360e0e",
   "metadata": {
    "tags": []
   },
   "outputs": [],
   "source": [
    "data = data[[column for column in data.columns if column != y_column]]"
   ]
  },
  {
   "cell_type": "markdown",
   "id": "c374be3d-5225-4c0b-9fd4-0e14c89dc5c0",
   "metadata": {},
   "source": [
    "## Convert date to number"
   ]
  },
  {
   "cell_type": "code",
   "execution_count": 79,
   "id": "f19e34ac-7838-444a-9e9a-0b6b1a710028",
   "metadata": {
    "tags": []
   },
   "outputs": [],
   "source": [
    "date_columns = ['c_jail_in', 'c_jail_out']"
   ]
  },
  {
   "cell_type": "code",
   "execution_count": 80,
   "id": "176b38ab-86dc-4247-9dad-0281b38783c0",
   "metadata": {
    "tags": []
   },
   "outputs": [],
   "source": [
    "for column in date_columns:\n",
    "    data[column] = pd.to_datetime(data[column])\n",
    "    data[column] = data[column] - data[column].min()\n",
    "    data[column] = data[column].apply(lambda t: t.days)"
   ]
  },
  {
   "cell_type": "code",
   "execution_count": 81,
   "id": "c1e41e09-16de-44a3-b8ab-4c6ebacf3a1b",
   "metadata": {
    "tags": []
   },
   "outputs": [
    {
     "data": {
      "text/plain": [
       "age                          int64\n",
       "c_charge_degree             object\n",
       "race                        object\n",
       "age_cat                     object\n",
       "score_text                  object\n",
       "sex                         object\n",
       "priors_count                 int64\n",
       "days_b_screening_arrest    float64\n",
       "decile_score                 int64\n",
       "c_jail_in                  float64\n",
       "c_jail_out                 float64\n",
       "dtype: object"
      ]
     },
     "execution_count": 81,
     "metadata": {},
     "output_type": "execute_result"
    }
   ],
   "source": [
    "data.dtypes"
   ]
  },
  {
   "cell_type": "markdown",
   "id": "f8c2f0f5-cbe9-48f6-a8d4-7a2b0926b29c",
   "metadata": {},
   "source": [
    "## One-hot encoding for categorical columns"
   ]
  },
  {
   "cell_type": "code",
   "execution_count": 82,
   "id": "845f5398-ca0e-4ecf-b278-9a6095062486",
   "metadata": {
    "tags": []
   },
   "outputs": [],
   "source": [
    "from sklearn.preprocessing import OneHotEncoder"
   ]
  },
  {
   "cell_type": "code",
   "execution_count": 83,
   "id": "c846b258-0d65-4cf3-ba7b-5cdb51bddce7",
   "metadata": {
    "tags": []
   },
   "outputs": [],
   "source": [
    "one_hot_encoder = OneHotEncoder(min_frequency=50)"
   ]
  },
  {
   "cell_type": "code",
   "execution_count": 84,
   "id": "625c5a02-86c0-42f1-b72d-acaf3629f2ea",
   "metadata": {
    "tags": []
   },
   "outputs": [],
   "source": [
    "categorical_columns = [\n",
    "    'sex',\n",
    "    'age_cat',\n",
    "    'race',\n",
    "    'c_charge_degree',\n",
    "    'score_text',\n",
    "]\n",
    "categorical_x = one_hot_encoder.fit_transform(data[categorical_columns])"
   ]
  },
  {
   "cell_type": "code",
   "execution_count": 85,
   "id": "da6f127c-85c9-4c91-ae5e-776c4668853f",
   "metadata": {
    "tags": []
   },
   "outputs": [],
   "source": [
    "data = data.drop(columns=categorical_columns)"
   ]
  },
  {
   "cell_type": "markdown",
   "id": "13253981-980a-4b70-a834-07b7da515740",
   "metadata": {},
   "source": [
    "## Handle null values"
   ]
  },
  {
   "cell_type": "code",
   "execution_count": 86,
   "id": "218a3b85-1462-496f-85ae-a8060a1aa777",
   "metadata": {
    "tags": []
   },
   "outputs": [],
   "source": [
    "for column in data.columns:\n",
    "    if data[column].isna().any():\n",
    "        data[column + '_null'] = data[column].isna()\n",
    "        data[column] = data[column].fillna(0)\n",
    "numerical_x = data.to_numpy(dtype=float)"
   ]
  },
  {
   "cell_type": "markdown",
   "id": "65a4b4ab-6044-4971-b489-1657a33f4293",
   "metadata": {},
   "source": [
    "## Generate Dataset"
   ]
  },
  {
   "cell_type": "code",
   "execution_count": 87,
   "id": "00504c33-ccca-4d28-ac3f-c18912311611",
   "metadata": {
    "tags": []
   },
   "outputs": [],
   "source": [
    "import numpy as np\n",
    "from sklearn.model_selection import train_test_split\n",
    "\n",
    "x = np.concatenate([numerical_x, categorical_x.toarray()], axis=1)\n",
    "y = data_y.to_numpy()"
   ]
  },
  {
   "cell_type": "code",
   "execution_count": 88,
   "id": "0f80f0b7-e138-49c5-9710-46eeed491923",
   "metadata": {
    "tags": []
   },
   "outputs": [],
   "source": [
    "indices = list(range(0, len(x)))\n",
    "indices_train, indices_test = train_test_split(indices, random_state=42)"
   ]
  },
  {
   "cell_type": "code",
   "execution_count": 89,
   "id": "992b7b93-fb2f-4e4c-b508-666c71ffbfc8",
   "metadata": {
    "tags": []
   },
   "outputs": [],
   "source": [
    "x_train, x_test, y_train, y_test = x[indices_train], x[indices_test], y[indices_train], y[indices_test]"
   ]
  },
  {
   "cell_type": "code",
   "execution_count": 90,
   "id": "57d5ec96-318b-43ab-977c-7e92f23cf508",
   "metadata": {
    "tags": []
   },
   "outputs": [],
   "source": [
    "data_train, data_test = original_data.iloc[indices_train], original_data.iloc[indices_test]"
   ]
  },
  {
   "cell_type": "markdown",
   "id": "af7ec066-8e7b-44ee-8434-e08617f5be37",
   "metadata": {},
   "source": [
    "# Plain Model with Bias\n",
    "\n",
    "## Train Plain Model"
   ]
  },
  {
   "cell_type": "code",
   "execution_count": 91,
   "id": "9b9eda6d-d79d-4bcb-92d8-881909455483",
   "metadata": {
    "tags": []
   },
   "outputs": [
    {
     "name": "stderr",
     "output_type": "stream",
     "text": [
      "C:\\Users\\Administrator\\AppData\\Roaming\\Python\\Python311\\site-packages\\sklearn\\linear_model\\_logistic.py:469: ConvergenceWarning: lbfgs failed to converge (status=1):\n",
      "STOP: TOTAL NO. of ITERATIONS REACHED LIMIT.\n",
      "\n",
      "Increase the number of iterations (max_iter) or scale the data as shown in:\n",
      "    https://scikit-learn.org/stable/modules/preprocessing.html\n",
      "Please also refer to the documentation for alternative solver options:\n",
      "    https://scikit-learn.org/stable/modules/linear_model.html#logistic-regression\n",
      "  n_iter_i = _check_optimize_result(\n"
     ]
    },
    {
     "data": {
      "text/html": [
       "<style>#sk-container-id-3 {\n",
       "  /* Definition of color scheme common for light and dark mode */\n",
       "  --sklearn-color-text: black;\n",
       "  --sklearn-color-line: gray;\n",
       "  /* Definition of color scheme for unfitted estimators */\n",
       "  --sklearn-color-unfitted-level-0: #fff5e6;\n",
       "  --sklearn-color-unfitted-level-1: #f6e4d2;\n",
       "  --sklearn-color-unfitted-level-2: #ffe0b3;\n",
       "  --sklearn-color-unfitted-level-3: chocolate;\n",
       "  /* Definition of color scheme for fitted estimators */\n",
       "  --sklearn-color-fitted-level-0: #f0f8ff;\n",
       "  --sklearn-color-fitted-level-1: #d4ebff;\n",
       "  --sklearn-color-fitted-level-2: #b3dbfd;\n",
       "  --sklearn-color-fitted-level-3: cornflowerblue;\n",
       "\n",
       "  /* Specific color for light theme */\n",
       "  --sklearn-color-text-on-default-background: var(--sg-text-color, var(--theme-code-foreground, var(--jp-content-font-color1, black)));\n",
       "  --sklearn-color-background: var(--sg-background-color, var(--theme-background, var(--jp-layout-color0, white)));\n",
       "  --sklearn-color-border-box: var(--sg-text-color, var(--theme-code-foreground, var(--jp-content-font-color1, black)));\n",
       "  --sklearn-color-icon: #696969;\n",
       "\n",
       "  @media (prefers-color-scheme: dark) {\n",
       "    /* Redefinition of color scheme for dark theme */\n",
       "    --sklearn-color-text-on-default-background: var(--sg-text-color, var(--theme-code-foreground, var(--jp-content-font-color1, white)));\n",
       "    --sklearn-color-background: var(--sg-background-color, var(--theme-background, var(--jp-layout-color0, #111)));\n",
       "    --sklearn-color-border-box: var(--sg-text-color, var(--theme-code-foreground, var(--jp-content-font-color1, white)));\n",
       "    --sklearn-color-icon: #878787;\n",
       "  }\n",
       "}\n",
       "\n",
       "#sk-container-id-3 {\n",
       "  color: var(--sklearn-color-text);\n",
       "}\n",
       "\n",
       "#sk-container-id-3 pre {\n",
       "  padding: 0;\n",
       "}\n",
       "\n",
       "#sk-container-id-3 input.sk-hidden--visually {\n",
       "  border: 0;\n",
       "  clip: rect(1px 1px 1px 1px);\n",
       "  clip: rect(1px, 1px, 1px, 1px);\n",
       "  height: 1px;\n",
       "  margin: -1px;\n",
       "  overflow: hidden;\n",
       "  padding: 0;\n",
       "  position: absolute;\n",
       "  width: 1px;\n",
       "}\n",
       "\n",
       "#sk-container-id-3 div.sk-dashed-wrapped {\n",
       "  border: 1px dashed var(--sklearn-color-line);\n",
       "  margin: 0 0.4em 0.5em 0.4em;\n",
       "  box-sizing: border-box;\n",
       "  padding-bottom: 0.4em;\n",
       "  background-color: var(--sklearn-color-background);\n",
       "}\n",
       "\n",
       "#sk-container-id-3 div.sk-container {\n",
       "  /* jupyter's `normalize.less` sets `[hidden] { display: none; }`\n",
       "     but bootstrap.min.css set `[hidden] { display: none !important; }`\n",
       "     so we also need the `!important` here to be able to override the\n",
       "     default hidden behavior on the sphinx rendered scikit-learn.org.\n",
       "     See: https://github.com/scikit-learn/scikit-learn/issues/21755 */\n",
       "  display: inline-block !important;\n",
       "  position: relative;\n",
       "}\n",
       "\n",
       "#sk-container-id-3 div.sk-text-repr-fallback {\n",
       "  display: none;\n",
       "}\n",
       "\n",
       "div.sk-parallel-item,\n",
       "div.sk-serial,\n",
       "div.sk-item {\n",
       "  /* draw centered vertical line to link estimators */\n",
       "  background-image: linear-gradient(var(--sklearn-color-text-on-default-background), var(--sklearn-color-text-on-default-background));\n",
       "  background-size: 2px 100%;\n",
       "  background-repeat: no-repeat;\n",
       "  background-position: center center;\n",
       "}\n",
       "\n",
       "/* Parallel-specific style estimator block */\n",
       "\n",
       "#sk-container-id-3 div.sk-parallel-item::after {\n",
       "  content: \"\";\n",
       "  width: 100%;\n",
       "  border-bottom: 2px solid var(--sklearn-color-text-on-default-background);\n",
       "  flex-grow: 1;\n",
       "}\n",
       "\n",
       "#sk-container-id-3 div.sk-parallel {\n",
       "  display: flex;\n",
       "  align-items: stretch;\n",
       "  justify-content: center;\n",
       "  background-color: var(--sklearn-color-background);\n",
       "  position: relative;\n",
       "}\n",
       "\n",
       "#sk-container-id-3 div.sk-parallel-item {\n",
       "  display: flex;\n",
       "  flex-direction: column;\n",
       "}\n",
       "\n",
       "#sk-container-id-3 div.sk-parallel-item:first-child::after {\n",
       "  align-self: flex-end;\n",
       "  width: 50%;\n",
       "}\n",
       "\n",
       "#sk-container-id-3 div.sk-parallel-item:last-child::after {\n",
       "  align-self: flex-start;\n",
       "  width: 50%;\n",
       "}\n",
       "\n",
       "#sk-container-id-3 div.sk-parallel-item:only-child::after {\n",
       "  width: 0;\n",
       "}\n",
       "\n",
       "/* Serial-specific style estimator block */\n",
       "\n",
       "#sk-container-id-3 div.sk-serial {\n",
       "  display: flex;\n",
       "  flex-direction: column;\n",
       "  align-items: center;\n",
       "  background-color: var(--sklearn-color-background);\n",
       "  padding-right: 1em;\n",
       "  padding-left: 1em;\n",
       "}\n",
       "\n",
       "\n",
       "/* Toggleable style: style used for estimator/Pipeline/ColumnTransformer box that is\n",
       "clickable and can be expanded/collapsed.\n",
       "- Pipeline and ColumnTransformer use this feature and define the default style\n",
       "- Estimators will overwrite some part of the style using the `sk-estimator` class\n",
       "*/\n",
       "\n",
       "/* Pipeline and ColumnTransformer style (default) */\n",
       "\n",
       "#sk-container-id-3 div.sk-toggleable {\n",
       "  /* Default theme specific background. It is overwritten whether we have a\n",
       "  specific estimator or a Pipeline/ColumnTransformer */\n",
       "  background-color: var(--sklearn-color-background);\n",
       "}\n",
       "\n",
       "/* Toggleable label */\n",
       "#sk-container-id-3 label.sk-toggleable__label {\n",
       "  cursor: pointer;\n",
       "  display: block;\n",
       "  width: 100%;\n",
       "  margin-bottom: 0;\n",
       "  padding: 0.5em;\n",
       "  box-sizing: border-box;\n",
       "  text-align: center;\n",
       "}\n",
       "\n",
       "#sk-container-id-3 label.sk-toggleable__label-arrow:before {\n",
       "  /* Arrow on the left of the label */\n",
       "  content: \"▸\";\n",
       "  float: left;\n",
       "  margin-right: 0.25em;\n",
       "  color: var(--sklearn-color-icon);\n",
       "}\n",
       "\n",
       "#sk-container-id-3 label.sk-toggleable__label-arrow:hover:before {\n",
       "  color: var(--sklearn-color-text);\n",
       "}\n",
       "\n",
       "/* Toggleable content - dropdown */\n",
       "\n",
       "#sk-container-id-3 div.sk-toggleable__content {\n",
       "  max-height: 0;\n",
       "  max-width: 0;\n",
       "  overflow: hidden;\n",
       "  text-align: left;\n",
       "  /* unfitted */\n",
       "  background-color: var(--sklearn-color-unfitted-level-0);\n",
       "}\n",
       "\n",
       "#sk-container-id-3 div.sk-toggleable__content.fitted {\n",
       "  /* fitted */\n",
       "  background-color: var(--sklearn-color-fitted-level-0);\n",
       "}\n",
       "\n",
       "#sk-container-id-3 div.sk-toggleable__content pre {\n",
       "  margin: 0.2em;\n",
       "  border-radius: 0.25em;\n",
       "  color: var(--sklearn-color-text);\n",
       "  /* unfitted */\n",
       "  background-color: var(--sklearn-color-unfitted-level-0);\n",
       "}\n",
       "\n",
       "#sk-container-id-3 div.sk-toggleable__content.fitted pre {\n",
       "  /* unfitted */\n",
       "  background-color: var(--sklearn-color-fitted-level-0);\n",
       "}\n",
       "\n",
       "#sk-container-id-3 input.sk-toggleable__control:checked~div.sk-toggleable__content {\n",
       "  /* Expand drop-down */\n",
       "  max-height: 200px;\n",
       "  max-width: 100%;\n",
       "  overflow: auto;\n",
       "}\n",
       "\n",
       "#sk-container-id-3 input.sk-toggleable__control:checked~label.sk-toggleable__label-arrow:before {\n",
       "  content: \"▾\";\n",
       "}\n",
       "\n",
       "/* Pipeline/ColumnTransformer-specific style */\n",
       "\n",
       "#sk-container-id-3 div.sk-label input.sk-toggleable__control:checked~label.sk-toggleable__label {\n",
       "  color: var(--sklearn-color-text);\n",
       "  background-color: var(--sklearn-color-unfitted-level-2);\n",
       "}\n",
       "\n",
       "#sk-container-id-3 div.sk-label.fitted input.sk-toggleable__control:checked~label.sk-toggleable__label {\n",
       "  background-color: var(--sklearn-color-fitted-level-2);\n",
       "}\n",
       "\n",
       "/* Estimator-specific style */\n",
       "\n",
       "/* Colorize estimator box */\n",
       "#sk-container-id-3 div.sk-estimator input.sk-toggleable__control:checked~label.sk-toggleable__label {\n",
       "  /* unfitted */\n",
       "  background-color: var(--sklearn-color-unfitted-level-2);\n",
       "}\n",
       "\n",
       "#sk-container-id-3 div.sk-estimator.fitted input.sk-toggleable__control:checked~label.sk-toggleable__label {\n",
       "  /* fitted */\n",
       "  background-color: var(--sklearn-color-fitted-level-2);\n",
       "}\n",
       "\n",
       "#sk-container-id-3 div.sk-label label.sk-toggleable__label,\n",
       "#sk-container-id-3 div.sk-label label {\n",
       "  /* The background is the default theme color */\n",
       "  color: var(--sklearn-color-text-on-default-background);\n",
       "}\n",
       "\n",
       "/* On hover, darken the color of the background */\n",
       "#sk-container-id-3 div.sk-label:hover label.sk-toggleable__label {\n",
       "  color: var(--sklearn-color-text);\n",
       "  background-color: var(--sklearn-color-unfitted-level-2);\n",
       "}\n",
       "\n",
       "/* Label box, darken color on hover, fitted */\n",
       "#sk-container-id-3 div.sk-label.fitted:hover label.sk-toggleable__label.fitted {\n",
       "  color: var(--sklearn-color-text);\n",
       "  background-color: var(--sklearn-color-fitted-level-2);\n",
       "}\n",
       "\n",
       "/* Estimator label */\n",
       "\n",
       "#sk-container-id-3 div.sk-label label {\n",
       "  font-family: monospace;\n",
       "  font-weight: bold;\n",
       "  display: inline-block;\n",
       "  line-height: 1.2em;\n",
       "}\n",
       "\n",
       "#sk-container-id-3 div.sk-label-container {\n",
       "  text-align: center;\n",
       "}\n",
       "\n",
       "/* Estimator-specific */\n",
       "#sk-container-id-3 div.sk-estimator {\n",
       "  font-family: monospace;\n",
       "  border: 1px dotted var(--sklearn-color-border-box);\n",
       "  border-radius: 0.25em;\n",
       "  box-sizing: border-box;\n",
       "  margin-bottom: 0.5em;\n",
       "  /* unfitted */\n",
       "  background-color: var(--sklearn-color-unfitted-level-0);\n",
       "}\n",
       "\n",
       "#sk-container-id-3 div.sk-estimator.fitted {\n",
       "  /* fitted */\n",
       "  background-color: var(--sklearn-color-fitted-level-0);\n",
       "}\n",
       "\n",
       "/* on hover */\n",
       "#sk-container-id-3 div.sk-estimator:hover {\n",
       "  /* unfitted */\n",
       "  background-color: var(--sklearn-color-unfitted-level-2);\n",
       "}\n",
       "\n",
       "#sk-container-id-3 div.sk-estimator.fitted:hover {\n",
       "  /* fitted */\n",
       "  background-color: var(--sklearn-color-fitted-level-2);\n",
       "}\n",
       "\n",
       "/* Specification for estimator info (e.g. \"i\" and \"?\") */\n",
       "\n",
       "/* Common style for \"i\" and \"?\" */\n",
       "\n",
       ".sk-estimator-doc-link,\n",
       "a:link.sk-estimator-doc-link,\n",
       "a:visited.sk-estimator-doc-link {\n",
       "  float: right;\n",
       "  font-size: smaller;\n",
       "  line-height: 1em;\n",
       "  font-family: monospace;\n",
       "  background-color: var(--sklearn-color-background);\n",
       "  border-radius: 1em;\n",
       "  height: 1em;\n",
       "  width: 1em;\n",
       "  text-decoration: none !important;\n",
       "  margin-left: 1ex;\n",
       "  /* unfitted */\n",
       "  border: var(--sklearn-color-unfitted-level-1) 1pt solid;\n",
       "  color: var(--sklearn-color-unfitted-level-1);\n",
       "}\n",
       "\n",
       ".sk-estimator-doc-link.fitted,\n",
       "a:link.sk-estimator-doc-link.fitted,\n",
       "a:visited.sk-estimator-doc-link.fitted {\n",
       "  /* fitted */\n",
       "  border: var(--sklearn-color-fitted-level-1) 1pt solid;\n",
       "  color: var(--sklearn-color-fitted-level-1);\n",
       "}\n",
       "\n",
       "/* On hover */\n",
       "div.sk-estimator:hover .sk-estimator-doc-link:hover,\n",
       ".sk-estimator-doc-link:hover,\n",
       "div.sk-label-container:hover .sk-estimator-doc-link:hover,\n",
       ".sk-estimator-doc-link:hover {\n",
       "  /* unfitted */\n",
       "  background-color: var(--sklearn-color-unfitted-level-3);\n",
       "  color: var(--sklearn-color-background);\n",
       "  text-decoration: none;\n",
       "}\n",
       "\n",
       "div.sk-estimator.fitted:hover .sk-estimator-doc-link.fitted:hover,\n",
       ".sk-estimator-doc-link.fitted:hover,\n",
       "div.sk-label-container:hover .sk-estimator-doc-link.fitted:hover,\n",
       ".sk-estimator-doc-link.fitted:hover {\n",
       "  /* fitted */\n",
       "  background-color: var(--sklearn-color-fitted-level-3);\n",
       "  color: var(--sklearn-color-background);\n",
       "  text-decoration: none;\n",
       "}\n",
       "\n",
       "/* Span, style for the box shown on hovering the info icon */\n",
       ".sk-estimator-doc-link span {\n",
       "  display: none;\n",
       "  z-index: 9999;\n",
       "  position: relative;\n",
       "  font-weight: normal;\n",
       "  right: .2ex;\n",
       "  padding: .5ex;\n",
       "  margin: .5ex;\n",
       "  width: min-content;\n",
       "  min-width: 20ex;\n",
       "  max-width: 50ex;\n",
       "  color: var(--sklearn-color-text);\n",
       "  box-shadow: 2pt 2pt 4pt #999;\n",
       "  /* unfitted */\n",
       "  background: var(--sklearn-color-unfitted-level-0);\n",
       "  border: .5pt solid var(--sklearn-color-unfitted-level-3);\n",
       "}\n",
       "\n",
       ".sk-estimator-doc-link.fitted span {\n",
       "  /* fitted */\n",
       "  background: var(--sklearn-color-fitted-level-0);\n",
       "  border: var(--sklearn-color-fitted-level-3);\n",
       "}\n",
       "\n",
       ".sk-estimator-doc-link:hover span {\n",
       "  display: block;\n",
       "}\n",
       "\n",
       "/* \"?\"-specific style due to the `<a>` HTML tag */\n",
       "\n",
       "#sk-container-id-3 a.estimator_doc_link {\n",
       "  float: right;\n",
       "  font-size: 1rem;\n",
       "  line-height: 1em;\n",
       "  font-family: monospace;\n",
       "  background-color: var(--sklearn-color-background);\n",
       "  border-radius: 1rem;\n",
       "  height: 1rem;\n",
       "  width: 1rem;\n",
       "  text-decoration: none;\n",
       "  /* unfitted */\n",
       "  color: var(--sklearn-color-unfitted-level-1);\n",
       "  border: var(--sklearn-color-unfitted-level-1) 1pt solid;\n",
       "}\n",
       "\n",
       "#sk-container-id-3 a.estimator_doc_link.fitted {\n",
       "  /* fitted */\n",
       "  border: var(--sklearn-color-fitted-level-1) 1pt solid;\n",
       "  color: var(--sklearn-color-fitted-level-1);\n",
       "}\n",
       "\n",
       "/* On hover */\n",
       "#sk-container-id-3 a.estimator_doc_link:hover {\n",
       "  /* unfitted */\n",
       "  background-color: var(--sklearn-color-unfitted-level-3);\n",
       "  color: var(--sklearn-color-background);\n",
       "  text-decoration: none;\n",
       "}\n",
       "\n",
       "#sk-container-id-3 a.estimator_doc_link.fitted:hover {\n",
       "  /* fitted */\n",
       "  background-color: var(--sklearn-color-fitted-level-3);\n",
       "}\n",
       "</style><div id=\"sk-container-id-3\" class=\"sk-top-container\"><div class=\"sk-text-repr-fallback\"><pre>LogisticRegression(random_state=42)</pre><b>In a Jupyter environment, please rerun this cell to show the HTML representation or trust the notebook. <br />On GitHub, the HTML representation is unable to render, please try loading this page with nbviewer.org.</b></div><div class=\"sk-container\" hidden><div class=\"sk-item\"><div class=\"sk-estimator fitted sk-toggleable\"><input class=\"sk-toggleable__control sk-hidden--visually\" id=\"sk-estimator-id-3\" type=\"checkbox\" checked><label for=\"sk-estimator-id-3\" class=\"sk-toggleable__label fitted sk-toggleable__label-arrow fitted\">&nbsp;&nbsp;LogisticRegression<a class=\"sk-estimator-doc-link fitted\" rel=\"noreferrer\" target=\"_blank\" href=\"https://scikit-learn.org/1.4/modules/generated/sklearn.linear_model.LogisticRegression.html\">?<span>Documentation for LogisticRegression</span></a><span class=\"sk-estimator-doc-link fitted\">i<span>Fitted</span></span></label><div class=\"sk-toggleable__content fitted\"><pre>LogisticRegression(random_state=42)</pre></div> </div></div></div></div>"
      ],
      "text/plain": [
       "LogisticRegression(random_state=42)"
      ]
     },
     "execution_count": 91,
     "metadata": {},
     "output_type": "execute_result"
    }
   ],
   "source": [
    "from sklearn.linear_model import LogisticRegression\n",
    "\n",
    "model = LogisticRegression(random_state=42)\n",
    "model.fit(x_train, y_train)"
   ]
  },
  {
   "cell_type": "code",
   "execution_count": 92,
   "id": "9e1c4473-509e-4504-8ad7-24d6ba8fa8e1",
   "metadata": {
    "tags": []
   },
   "outputs": [
    {
     "data": {
      "text/plain": [
       "0.7243172951885566"
      ]
     },
     "execution_count": 92,
     "metadata": {},
     "output_type": "execute_result"
    }
   ],
   "source": [
    "from sklearn.metrics import accuracy_score\n",
    "\n",
    "pred_test = model.predict(x_test)\n",
    "accuracy_score(pred_test, y_test)"
   ]
  },
  {
   "cell_type": "code",
   "execution_count": 93,
   "id": "d246b253-0ac2-4f5a-bae3-3b9b6351418e",
   "metadata": {
    "tags": []
   },
   "outputs": [
    {
     "data": {
      "text/plain": [
       "12"
      ]
     },
     "execution_count": 93,
     "metadata": {},
     "output_type": "execute_result"
    }
   ],
   "source": [
    "model.coef_.argmax()"
   ]
  },
  {
   "cell_type": "code",
   "execution_count": 94,
   "id": "dfa9ff12-b5c2-42c9-a8fb-f05a3d2d86f1",
   "metadata": {
    "tags": []
   },
   "outputs": [
    {
     "data": {
      "text/plain": [
       "array([[ 30.,   1.,  -1., ...,   0.,   1.,   0.],\n",
       "       [ 21.,   0.,  -1., ...,   1.,   0.,   0.],\n",
       "       [ 43.,   1.,  -1., ...,   0.,   1.,   0.],\n",
       "       ...,\n",
       "       [ 21.,   2., -10., ...,   0.,   0.,   1.],\n",
       "       [ 31.,   6.,   0., ...,   0.,   1.,   0.],\n",
       "       [ 42.,  13.,  -1., ...,   1.,   0.,   0.]])"
      ]
     },
     "execution_count": 94,
     "metadata": {},
     "output_type": "execute_result"
    }
   ],
   "source": [
    "x_train"
   ]
  },
  {
   "cell_type": "markdown",
   "id": "cd30749d-a14a-4f70-b66a-02cddd26a3f2",
   "metadata": {},
   "source": [
    "## Bias Metrics"
   ]
  },
  {
   "cell_type": "code",
   "execution_count": 99,
   "id": "597e2ea1-77cc-471b-8203-c5c870661df5",
   "metadata": {
    "tags": []
   },
   "outputs": [
    {
     "name": "stderr",
     "output_type": "stream",
     "text": [
      "C:\\Users\\Administrator\\AppData\\Local\\Temp\\ipykernel_58100\\3939615259.py:1: SettingWithCopyWarning: \n",
      "A value is trying to be set on a copy of a slice from a DataFrame.\n",
      "Try using .loc[row_indexer,col_indexer] = value instead\n",
      "\n",
      "See the caveats in the documentation: https://pandas.pydata.org/pandas-docs/stable/user_guide/indexing.html#returning-a-view-versus-a-copy\n",
      "  data_test['prediction'] = pred_test\n"
     ]
    }
   ],
   "source": [
    "data_test['prediction'] = pred_test"
   ]
  },
  {
   "cell_type": "code",
   "execution_count": 100,
   "id": "8d57c8ad-2946-4637-bbd8-28fc2dfff7d3",
   "metadata": {
    "tags": []
   },
   "outputs": [],
   "source": [
    "def metrics_report(y_gt, y_pred):\n",
    "    tp = ((y_gt == 1) & (y_pred == 1)).sum()\n",
    "    fp = ((y_gt == 0) & (y_pred == 1)).sum()\n",
    "    fn = ((y_gt == 1) & (y_pred == 0)).sum()\n",
    "    tn = ((y_gt == 0) & (y_pred == 0)).sum()\n",
    "    fnr = fn / (tp + fn)\n",
    "    fpr = fp / (fp + tn)\n",
    "    fdr = fp / (tp + fp)\n",
    "    fomr = fn / (fn + tn)\n",
    "    omr = (fn + fp) / (tp + fp + fn + tn)\n",
    "    print('False Negative Rate', fnr)\n",
    "    print('False Positive Rate', fpr)\n",
    "    print('False Discovery Rate', fdr)\n",
    "    print('False Omission Rate', fomr)\n",
    "    print('Overall Misclass Rate', omr)"
   ]
  },
  {
   "cell_type": "code",
   "execution_count": 101,
   "id": "887bb022-17df-40d9-ac92-8264aac2544a",
   "metadata": {
    "tags": []
   },
   "outputs": [
    {
     "name": "stdout",
     "output_type": "stream",
     "text": [
      "False Negative Rate 0.2936344969199179\n",
      "False Positive Rate 0.2631578947368421\n",
      "False Discovery Rate 0.25054466230936817\n",
      "False Omission Rate 0.30752688172043013\n",
      "Overall Misclass Rate 0.2792207792207792\n"
     ]
    }
   ],
   "source": [
    "african_data = data_test[data_test['race'] == 'African-American']\n",
    "metrics_report(african_data['two_year_recid'], african_data['prediction'])"
   ]
  },
  {
   "cell_type": "code",
   "execution_count": 102,
   "id": "ef4cce4a-b225-4203-a3fa-dd3e16a831af",
   "metadata": {
    "tags": []
   },
   "outputs": [
    {
     "name": "stdout",
     "output_type": "stream",
     "text": [
      "False Negative Rate 0.5\n",
      "False Positive Rate 0.12299465240641712\n",
      "False Discovery Rate 0.27710843373493976\n",
      "False Omission Rate 0.26785714285714285\n",
      "Overall Misclass Rate 0.2703583061889251\n"
     ]
    }
   ],
   "source": [
    "caucasian_data = data_test[data_test['race'] == 'Caucasian']\n",
    "metrics_report(caucasian_data['two_year_recid'], caucasian_data['prediction'])"
   ]
  },
  {
   "cell_type": "markdown",
   "id": "8f6b19b9-6bb6-41f1-9454-1283b496baea",
   "metadata": {},
   "source": [
    "Caucasian group has higher False Negative Rate and lower False Positive Rate than African-American, which means the model biasedly tends to consider Caucasian group innocent."
   ]
  },
  {
   "cell_type": "markdown",
   "id": "db1c257e-da16-4e07-a847-b4fb01e2018e",
   "metadata": {},
   "source": [
    "# Unbiased Model\n",
    "\n",
    "Use 1 / -1 as labels, as suggested in paper."
   ]
  },
  {
   "cell_type": "code",
   "execution_count": 103,
   "id": "bc350713-9877-4964-b4c5-85d1fa9ee227",
   "metadata": {
    "tags": []
   },
   "outputs": [],
   "source": [
    "def L(theta):\n",
    "    m = len(y_train)  # Number of training examples\n",
    "    h = 1 / (1 + np.exp(-np.dot(x_train, theta)))  # Logistic function\n",
    "    epsilon = 1e-10  # Small value to prevent log(0) errors\n",
    "    \n",
    "    # Cross-entropy loss function\n",
    "    loss = -(1/m) * np.sum(y_train * np.log(h + epsilon) + (1 - y_train) * np.log(1 - h + epsilon))\n",
    "    \n",
    "    return loss"
   ]
  },
  {
   "cell_type": "code",
   "execution_count": 104,
   "id": "f06b0689-5379-42b4-afa3-c620a7eeade0",
   "metadata": {
    "tags": []
   },
   "outputs": [],
   "source": [
    "d0_indices = data_train['race'] == 'Caucasian'\n",
    "d1_indices = data_train['race'] == 'African-American'\n",
    "d0_x_train = x_train[d0_indices]\n",
    "d1_x_train = x_train[d1_indices]\n",
    "d0_y_train = y_train[d0_indices] * 2 - 1\n",
    "d1_y_train = y_train[d1_indices] * 2 - 1\n",
    "\n",
    "def g1(theta, x, y):\n",
    "    d = x @ theta\n",
    "    return np.minimum(y * d, 0)\n",
    "\n",
    "def g2(theta, x, y):\n",
    "    d = x @ theta\n",
    "    return np.minimum((1 - y) / 2 * y * d, 0)\n",
    "\n",
    "def g3(theta, x, y):\n",
    "    d = x @ theta\n",
    "    return np.minimum((1 + y) / 2 * y * d, 0)\n",
    "\n",
    "def st(theta, g):\n",
    "    n0 = d0_indices.sum()\n",
    "    n1 = d1_indices.sum()\n",
    "    n = n0 + n1\n",
    "    return -n1 / n * g(theta, d0_x_train, d0_y_train).sum() \\\n",
    "        + n0 / n * g(theta, d1_x_train, d1_y_train).sum()"
   ]
  },
  {
   "cell_type": "code",
   "execution_count": 105,
   "id": "8c5001f2-f5be-402d-9885-2e113f81ac55",
   "metadata": {
    "tags": []
   },
   "outputs": [],
   "source": [
    "np.random.seed(42)\n",
    "theta0 = np.zeros(x_train.shape[-1])"
   ]
  },
  {
   "cell_type": "markdown",
   "id": "3fb5c02a-a999-410b-871b-ff0c0fd9fb1e",
   "metadata": {},
   "source": [
    "## Train Plain Biased Model without constraints\n",
    "\n",
    "First try minimize a normal logistic regression to verify the correctness of L and optimization."
   ]
  },
  {
   "cell_type": "code",
   "execution_count": 106,
   "id": "5e6993bc-d2b2-4e90-bb56-a67938838189",
   "metadata": {
    "tags": []
   },
   "outputs": [],
   "source": [
    "from scipy.optimize import minimize\n",
    "theta = minimize(L, theta0).x"
   ]
  },
  {
   "cell_type": "code",
   "execution_count": 107,
   "id": "0e495862-b4c7-4801-8430-111b17c03272",
   "metadata": {
    "tags": []
   },
   "outputs": [
    {
     "data": {
      "text/plain": [
       "0.7249674902470741"
      ]
     },
     "execution_count": 107,
     "metadata": {},
     "output_type": "execute_result"
    }
   ],
   "source": [
    "theta_biased = theta\n",
    "accuracy_score((x_test @ theta_biased) >= 0, y_test)"
   ]
  },
  {
   "cell_type": "code",
   "execution_count": 108,
   "id": "44d823c0-8b54-45f8-b437-14446fa85af2",
   "metadata": {
    "tags": []
   },
   "outputs": [
    {
     "data": {
      "text/plain": [
       "(14.235750529959802, -47.921137887987, 62.1568884179468)"
      ]
     },
     "execution_count": 108,
     "metadata": {},
     "output_type": "execute_result"
    }
   ],
   "source": [
    "st(theta_biased, g1), st(theta_biased, g2), st(theta_biased, g3)"
   ]
  },
  {
   "cell_type": "code",
   "execution_count": 109,
   "id": "0d5cfe6e-b6f5-4d53-b5b2-5707b5da08cb",
   "metadata": {
    "tags": []
   },
   "outputs": [
    {
     "name": "stderr",
     "output_type": "stream",
     "text": [
      "C:\\Users\\Administrator\\AppData\\Local\\Temp\\ipykernel_58100\\1596178535.py:1: SettingWithCopyWarning: \n",
      "A value is trying to be set on a copy of a slice from a DataFrame.\n",
      "Try using .loc[row_indexer,col_indexer] = value instead\n",
      "\n",
      "See the caveats in the documentation: https://pandas.pydata.org/pandas-docs/stable/user_guide/indexing.html#returning-a-view-versus-a-copy\n",
      "  data_test['biased-prediction'] = x_test @ theta_biased > 0\n"
     ]
    }
   ],
   "source": [
    "data_test['biased-prediction'] = x_test @ theta_biased > 0"
   ]
  },
  {
   "cell_type": "code",
   "execution_count": 110,
   "id": "ec78e8f2-3d83-44cc-b7a3-81f7bd73fc79",
   "metadata": {
    "tags": []
   },
   "outputs": [
    {
     "name": "stdout",
     "output_type": "stream",
     "text": [
      "False Negative Rate 0.28952772073921973\n",
      "False Positive Rate 0.2608695652173913\n",
      "False Discovery Rate 0.24782608695652175\n",
      "False Omission Rate 0.30387931034482757\n",
      "Overall Misclass Rate 0.275974025974026\n"
     ]
    }
   ],
   "source": [
    "african_data = data_test[data_test['race'] == 'African-American']\n",
    "metrics_report(african_data['two_year_recid'], african_data['biased-prediction'])"
   ]
  },
  {
   "cell_type": "code",
   "execution_count": 111,
   "id": "982607f5-d7cc-40eb-b7bc-5d9b7a9f9fa4",
   "metadata": {
    "tags": []
   },
   "outputs": [
    {
     "name": "stdout",
     "output_type": "stream",
     "text": [
      "False Negative Rate 0.5083333333333333\n",
      "False Positive Rate 0.12299465240641712\n",
      "False Discovery Rate 0.2804878048780488\n",
      "False Omission Rate 0.27111111111111114\n",
      "Overall Misclass Rate 0.2736156351791531\n"
     ]
    }
   ],
   "source": [
    "caucasian_data = data_test[data_test['race'] == 'Caucasian']\n",
    "metrics_report(caucasian_data['two_year_recid'], caucasian_data['biased-prediction'])"
   ]
  },
  {
   "cell_type": "markdown",
   "id": "8722bbdc-daa7-47dd-ac6a-96e8d77cd320",
   "metadata": {},
   "source": [
    "## Train with constraints\n",
    "\n",
    "### Constraint 1 to minimize gap of overall misclassification rate"
   ]
  },
  {
   "cell_type": "code",
   "execution_count": 112,
   "id": "2903f756-b2f2-4cb7-910e-0ee283d91ec8",
   "metadata": {
    "tags": []
   },
   "outputs": [
    {
     "name": "stderr",
     "output_type": "stream",
     "text": [
      "C:\\Users\\Administrator\\AppData\\Local\\Temp\\ipykernel_58100\\4128375151.py:3: RuntimeWarning: overflow encountered in exp\n",
      "  h = 1 / (1 + np.exp(-np.dot(x_train, theta)))  # Logistic function\n"
     ]
    }
   ],
   "source": [
    "constraint = {'type': 'eq', 'fun': lambda theta: st(theta, g1)}\n",
    "theta = minimize(L, theta0, constraints=constraint).x"
   ]
  },
  {
   "cell_type": "code",
   "execution_count": 113,
   "id": "e872c0c6-4daf-44f1-905b-a4a33d8e1590",
   "metadata": {
    "tags": []
   },
   "outputs": [
    {
     "data": {
      "text/plain": [
       "0.7249674902470741"
      ]
     },
     "execution_count": 113,
     "metadata": {},
     "output_type": "execute_result"
    }
   ],
   "source": [
    "accuracy_score((x_test @ theta) >= 0, y_test)"
   ]
  },
  {
   "cell_type": "code",
   "execution_count": 114,
   "id": "e70b3709-08d2-4041-b196-4f3a873d6e66",
   "metadata": {
    "tags": []
   },
   "outputs": [
    {
     "data": {
      "text/plain": [
       "(5.738343133998569e-11, -39.88734879924521, 39.88734879930254)"
      ]
     },
     "execution_count": 114,
     "metadata": {},
     "output_type": "execute_result"
    }
   ],
   "source": [
    "st(theta, g1), st(theta, g2), st(theta, g3)"
   ]
  },
  {
   "cell_type": "code",
   "execution_count": 115,
   "id": "78e0e91d-16f5-4f25-b146-2744f2ad1ff3",
   "metadata": {
    "tags": []
   },
   "outputs": [
    {
     "name": "stderr",
     "output_type": "stream",
     "text": [
      "C:\\Users\\Administrator\\AppData\\Local\\Temp\\ipykernel_58100\\713827953.py:1: SettingWithCopyWarning: \n",
      "A value is trying to be set on a copy of a slice from a DataFrame.\n",
      "Try using .loc[row_indexer,col_indexer] = value instead\n",
      "\n",
      "See the caveats in the documentation: https://pandas.pydata.org/pandas-docs/stable/user_guide/indexing.html#returning-a-view-versus-a-copy\n",
      "  data_test['unbiased1-prediction'] = x_test @ theta > 0\n"
     ]
    }
   ],
   "source": [
    "data_test['unbiased1-prediction'] = x_test @ theta > 0"
   ]
  },
  {
   "cell_type": "code",
   "execution_count": 116,
   "id": "fcd91ce7-9754-4956-90aa-24addadc0597",
   "metadata": {
    "tags": []
   },
   "outputs": [
    {
     "name": "stdout",
     "output_type": "stream",
     "text": [
      "False Negative Rate 0.29774127310061604\n",
      "False Positive Rate 0.2562929061784897\n",
      "False Discovery Rate 0.24669603524229075\n",
      "False Omission Rate 0.30851063829787234\n",
      "Overall Misclass Rate 0.27813852813852813\n"
     ]
    }
   ],
   "source": [
    "african_data = data_test[data_test['race'] == 'African-American']\n",
    "metrics_report(african_data['two_year_recid'], african_data['unbiased1-prediction'])"
   ]
  },
  {
   "cell_type": "code",
   "execution_count": 117,
   "id": "1367e894-b55d-4b23-b7fc-1b6c8efd6f2b",
   "metadata": {
    "tags": []
   },
   "outputs": [
    {
     "name": "stdout",
     "output_type": "stream",
     "text": [
      "False Negative Rate 0.475\n",
      "False Positive Rate 0.13903743315508021\n",
      "False Discovery Rate 0.29213483146067415\n",
      "False Omission Rate 0.26146788990825687\n",
      "Overall Misclass Rate 0.2703583061889251\n"
     ]
    }
   ],
   "source": [
    "caucasian_data = data_test[data_test['race'] == 'Caucasian']\n",
    "metrics_report(caucasian_data['two_year_recid'], caucasian_data['unbiased1-prediction'])"
   ]
  },
  {
   "cell_type": "markdown",
   "id": "0c04ec9f-bf16-41b4-bb3c-ad5e19c07511",
   "metadata": {},
   "source": [
    "### Constraint 2 to minimize gap of false positive rate"
   ]
  },
  {
   "cell_type": "code",
   "execution_count": 118,
   "id": "ace9880a-e48d-45b5-9745-d7923f5241d8",
   "metadata": {
    "tags": []
   },
   "outputs": [
    {
     "name": "stderr",
     "output_type": "stream",
     "text": [
      "C:\\Users\\Administrator\\AppData\\Local\\Temp\\ipykernel_58100\\4128375151.py:3: RuntimeWarning: overflow encountered in exp\n",
      "  h = 1 / (1 + np.exp(-np.dot(x_train, theta)))  # Logistic function\n"
     ]
    }
   ],
   "source": [
    "constraint = {'type': 'eq', 'fun': lambda theta: st(theta, g2)}\n",
    "theta = minimize(L, theta0, constraints=constraint).x"
   ]
  },
  {
   "cell_type": "code",
   "execution_count": 119,
   "id": "462ef437-7786-46ea-852f-9bfa5605df83",
   "metadata": {
    "tags": []
   },
   "outputs": [
    {
     "data": {
      "text/plain": [
       "0.7223667100130039"
      ]
     },
     "execution_count": 119,
     "metadata": {},
     "output_type": "execute_result"
    }
   ],
   "source": [
    "accuracy_score((x_test @ theta) >= 0, y_test)"
   ]
  },
  {
   "cell_type": "code",
   "execution_count": 120,
   "id": "72333aea-ac0a-4fd7-bdf8-54bc3a49efb8",
   "metadata": {
    "tags": []
   },
   "outputs": [
    {
     "data": {
      "text/plain": [
       "(2.164416319776592, 8.023022246561595e-10, 2.164416318974247)"
      ]
     },
     "execution_count": 120,
     "metadata": {},
     "output_type": "execute_result"
    }
   ],
   "source": [
    "st(theta, g1), st(theta, g2), st(theta, g3)"
   ]
  },
  {
   "cell_type": "code",
   "execution_count": 121,
   "id": "e4a67bda-df13-4da3-8b4c-d25ee0ee064b",
   "metadata": {
    "tags": []
   },
   "outputs": [
    {
     "name": "stderr",
     "output_type": "stream",
     "text": [
      "C:\\Users\\Administrator\\AppData\\Local\\Temp\\ipykernel_58100\\1202990414.py:1: SettingWithCopyWarning: \n",
      "A value is trying to be set on a copy of a slice from a DataFrame.\n",
      "Try using .loc[row_indexer,col_indexer] = value instead\n",
      "\n",
      "See the caveats in the documentation: https://pandas.pydata.org/pandas-docs/stable/user_guide/indexing.html#returning-a-view-versus-a-copy\n",
      "  data_test['unbiased2-prediction'] = x_test @ theta > 0\n"
     ]
    }
   ],
   "source": [
    "data_test['unbiased2-prediction'] = x_test @ theta > 0"
   ]
  },
  {
   "cell_type": "code",
   "execution_count": 122,
   "id": "adf4e98f-a754-4d82-aaf7-10bf1fbc5928",
   "metadata": {
    "tags": []
   },
   "outputs": [
    {
     "name": "stdout",
     "output_type": "stream",
     "text": [
      "False Negative Rate 0.32854209445585214\n",
      "False Positive Rate 0.22654462242562928\n",
      "False Discovery Rate 0.2323943661971831\n",
      "False Omission Rate 0.321285140562249\n",
      "Overall Misclass Rate 0.2803030303030303\n"
     ]
    }
   ],
   "source": [
    "african_data = data_test[data_test['race'] == 'African-American']\n",
    "metrics_report(african_data['two_year_recid'], african_data['unbiased2-prediction'])"
   ]
  },
  {
   "cell_type": "code",
   "execution_count": 123,
   "id": "1d66e6fe-f226-4d52-8256-fca778453f75",
   "metadata": {
    "tags": []
   },
   "outputs": [
    {
     "name": "stdout",
     "output_type": "stream",
     "text": [
      "False Negative Rate 0.42083333333333334\n",
      "False Positive Rate 0.17914438502673796\n",
      "False Discovery Rate 0.32524271844660196\n",
      "False Omission Rate 0.24754901960784315\n",
      "Overall Misclass Rate 0.2736156351791531\n"
     ]
    }
   ],
   "source": [
    "caucasian_data = data_test[data_test['race'] == 'Caucasian']\n",
    "metrics_report(caucasian_data['two_year_recid'], caucasian_data['unbiased2-prediction'])"
   ]
  },
  {
   "cell_type": "markdown",
   "id": "35b94cc6-e653-4a0e-bbba-b04147752379",
   "metadata": {},
   "source": [
    "### Constraint 3 to minimize gap of false negative rate"
   ]
  },
  {
   "cell_type": "code",
   "execution_count": 124,
   "id": "15200cfc-5fc0-4396-8bc0-deb886367952",
   "metadata": {
    "tags": []
   },
   "outputs": [
    {
     "name": "stderr",
     "output_type": "stream",
     "text": [
      "C:\\Users\\Administrator\\AppData\\Local\\Temp\\ipykernel_58100\\4128375151.py:3: RuntimeWarning: overflow encountered in exp\n",
      "  h = 1 / (1 + np.exp(-np.dot(x_train, theta)))  # Logistic function\n"
     ]
    }
   ],
   "source": [
    "constraint = {'type': 'eq', 'fun': lambda theta: st(theta, g3)}\n",
    "theta = minimize(L, theta0, constraints=constraint).x"
   ]
  },
  {
   "cell_type": "code",
   "execution_count": 125,
   "id": "069b3f02-ec71-4685-8295-03f3477635b3",
   "metadata": {
    "tags": []
   },
   "outputs": [
    {
     "data": {
      "text/plain": [
       "0.7230169050715215"
      ]
     },
     "execution_count": 125,
     "metadata": {},
     "output_type": "execute_result"
    }
   ],
   "source": [
    "accuracy_score((x_test @ theta) >= 0, y_test)"
   ]
  },
  {
   "cell_type": "code",
   "execution_count": 126,
   "id": "f824d635-4636-4e2e-b93b-d5e786bc1cbe",
   "metadata": {
    "tags": []
   },
   "outputs": [
    {
     "data": {
      "text/plain": [
       "(-11.137701556722448, -11.137701555991171, -7.312621619348647e-10)"
      ]
     },
     "execution_count": 126,
     "metadata": {},
     "output_type": "execute_result"
    }
   ],
   "source": [
    "st(theta, g1), st(theta, g2), st(theta, g3)"
   ]
  },
  {
   "cell_type": "code",
   "execution_count": 127,
   "id": "37765e60-9dcd-42f2-9d84-c9a303a238b7",
   "metadata": {
    "tags": []
   },
   "outputs": [
    {
     "name": "stderr",
     "output_type": "stream",
     "text": [
      "C:\\Users\\Administrator\\AppData\\Local\\Temp\\ipykernel_58100\\2167011796.py:1: SettingWithCopyWarning: \n",
      "A value is trying to be set on a copy of a slice from a DataFrame.\n",
      "Try using .loc[row_indexer,col_indexer] = value instead\n",
      "\n",
      "See the caveats in the documentation: https://pandas.pydata.org/pandas-docs/stable/user_guide/indexing.html#returning-a-view-versus-a-copy\n",
      "  data_test['unbiased3-prediction'] = x_test @ theta > 0\n"
     ]
    }
   ],
   "source": [
    "data_test['unbiased3-prediction'] = x_test @ theta > 0"
   ]
  },
  {
   "cell_type": "code",
   "execution_count": 128,
   "id": "1224a64d-fd2d-48ae-83cc-5e06e81cf2dc",
   "metadata": {
    "tags": []
   },
   "outputs": [
    {
     "name": "stdout",
     "output_type": "stream",
     "text": [
      "False Negative Rate 0.3326488706365503\n",
      "False Positive Rate 0.21739130434782608\n",
      "False Discovery Rate 0.2261904761904762\n",
      "False Omission Rate 0.32142857142857145\n",
      "Overall Misclass Rate 0.27813852813852813\n"
     ]
    }
   ],
   "source": [
    "african_data = data_test[data_test['race'] == 'African-American']\n",
    "metrics_report(african_data['two_year_recid'], african_data['unbiased3-prediction'])"
   ]
  },
  {
   "cell_type": "code",
   "execution_count": 129,
   "id": "9e587336-5936-442b-95a1-ac957c72cbf2",
   "metadata": {
    "tags": []
   },
   "outputs": [
    {
     "name": "stdout",
     "output_type": "stream",
     "text": [
      "False Negative Rate 0.44166666666666665\n",
      "False Positive Rate 0.16844919786096257\n",
      "False Discovery Rate 0.3197969543147208\n",
      "False Omission Rate 0.2541966426858513\n",
      "Overall Misclass Rate 0.2752442996742671\n"
     ]
    }
   ],
   "source": [
    "caucasian_data = data_test[data_test['race'] == 'Caucasian']\n",
    "metrics_report(caucasian_data['two_year_recid'], caucasian_data['unbiased3-prediction'])"
   ]
  },
  {
   "cell_type": "markdown",
   "id": "6fecef04-d654-4bbf-95ab-ecb4b7909530",
   "metadata": {},
   "source": [
    "## Optimize with all the constraints"
   ]
  },
  {
   "cell_type": "code",
   "execution_count": 137,
   "id": "09ac5713-4265-497b-9f81-d52793848120",
   "metadata": {
    "tags": []
   },
   "outputs": [],
   "source": [
    "c = 0.0001"
   ]
  },
  {
   "cell_type": "code",
   "execution_count": 138,
   "id": "ef399a98-1b1d-4e46-826e-08898f8581dc",
   "metadata": {
    "tags": []
   },
   "outputs": [
    {
     "name": "stderr",
     "output_type": "stream",
     "text": [
      "C:\\Users\\Administrator\\AppData\\Local\\Temp\\ipykernel_58100\\4128375151.py:3: RuntimeWarning: overflow encountered in exp\n",
      "  h = 1 / (1 + np.exp(-np.dot(x_train, theta)))  # Logistic function\n"
     ]
    }
   ],
   "source": [
    "constraint = (\n",
    "    {'type': 'ineq', 'fun': lambda theta: st(theta, g1) + c},\n",
    "    {'type': 'ineq', 'fun': lambda theta: -st(theta, g1) + c},\n",
    "    {'type': 'ineq', 'fun': lambda theta: st(theta, g2) + c},\n",
    "    {'type': 'ineq', 'fun': lambda theta: -st(theta, g2) + c},\n",
    "    {'type': 'ineq', 'fun': lambda theta: st(theta, g3) + c},\n",
    "    {'type': 'ineq', 'fun': lambda theta: -st(theta, g3) + c}\n",
    ")\n",
    "theta = minimize(L, theta0, method='SLSQP', constraints=constraint).x"
   ]
  },
  {
   "cell_type": "code",
   "execution_count": 139,
   "id": "d8fb3dff-8bad-476a-947e-10f60ee8ffa6",
   "metadata": {
    "tags": []
   },
   "outputs": [
    {
     "data": {
      "text/plain": [
       "0.7204161248374512"
      ]
     },
     "execution_count": 139,
     "metadata": {},
     "output_type": "execute_result"
    }
   ],
   "source": [
    "accuracy_score((x_test @ theta) >= 0, y_test)"
   ]
  },
  {
   "cell_type": "code",
   "execution_count": 140,
   "id": "1df268f7-6f22-4dc6-8b94-b10f43b4cce7",
   "metadata": {
    "tags": []
   },
   "outputs": [
    {
     "data": {
      "text/plain": [
       "(2.2943567046240787e-08, -9.993007839170787e-05, 9.995302195875411e-05)"
      ]
     },
     "execution_count": 140,
     "metadata": {},
     "output_type": "execute_result"
    }
   ],
   "source": [
    "st(theta, g1), st(theta, g2), st(theta, g3)"
   ]
  },
  {
   "cell_type": "code",
   "execution_count": 141,
   "id": "11051b4e-1dcd-4bb7-b104-924d79ab47d6",
   "metadata": {
    "tags": []
   },
   "outputs": [
    {
     "name": "stderr",
     "output_type": "stream",
     "text": [
      "C:\\Users\\Administrator\\AppData\\Local\\Temp\\ipykernel_58100\\2720298200.py:1: SettingWithCopyWarning: \n",
      "A value is trying to be set on a copy of a slice from a DataFrame.\n",
      "Try using .loc[row_indexer,col_indexer] = value instead\n",
      "\n",
      "See the caveats in the documentation: https://pandas.pydata.org/pandas-docs/stable/user_guide/indexing.html#returning-a-view-versus-a-copy\n",
      "  data_test['unbiased-prediction'] = x_test @ theta > 0\n"
     ]
    }
   ],
   "source": [
    "data_test['unbiased-prediction'] = x_test @ theta > 0"
   ]
  },
  {
   "cell_type": "code",
   "execution_count": 142,
   "id": "46b699f0-fe61-43ab-8446-5796ef637683",
   "metadata": {
    "tags": []
   },
   "outputs": [
    {
     "name": "stdout",
     "output_type": "stream",
     "text": [
      "False Negative Rate 0.3347022587268994\n",
      "False Positive Rate 0.22654462242562928\n",
      "False Discovery Rate 0.23404255319148937\n",
      "False Omission Rate 0.3253493013972056\n",
      "Overall Misclass Rate 0.28354978354978355\n"
     ]
    }
   ],
   "source": [
    "african_data = data_test[data_test['race'] == 'African-American']\n",
    "metrics_report(african_data['two_year_recid'], african_data['unbiased-prediction'])"
   ]
  },
  {
   "cell_type": "code",
   "execution_count": 143,
   "id": "062943c4-53dd-4dcb-a98d-71d819364764",
   "metadata": {
    "tags": []
   },
   "outputs": [
    {
     "name": "stdout",
     "output_type": "stream",
     "text": [
      "False Negative Rate 0.425\n",
      "False Positive Rate 0.17647058823529413\n",
      "False Discovery Rate 0.3235294117647059\n",
      "False Omission Rate 0.24878048780487805\n",
      "Overall Misclass Rate 0.2736156351791531\n"
     ]
    }
   ],
   "source": [
    "caucasian_data = data_test[data_test['race'] == 'Caucasian']\n",
    "metrics_report(caucasian_data['two_year_recid'], caucasian_data['unbiased-prediction'])"
   ]
  },
  {
   "cell_type": "code",
   "execution_count": null,
   "id": "862d751c-1218-4503-80fa-226e48a4a7ae",
   "metadata": {},
   "outputs": [],
   "source": []
  }
 ],
 "metadata": {
  "kernelspec": {
   "display_name": "Python 3 (ipykernel)",
   "language": "python",
   "name": "python3"
  },
  "language_info": {
   "codemirror_mode": {
    "name": "ipython",
    "version": 3
   },
   "file_extension": ".py",
   "mimetype": "text/x-python",
   "name": "python",
   "nbconvert_exporter": "python",
   "pygments_lexer": "ipython3",
   "version": "3.11.5"
  }
 },
 "nbformat": 4,
 "nbformat_minor": 5
}
